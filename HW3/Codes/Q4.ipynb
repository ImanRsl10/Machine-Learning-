{
 "cells": [
  {
   "cell_type": "code",
   "execution_count": 4,
   "metadata": {},
   "outputs": [],
   "source": [
    "from sklearn.base import BaseEstimator, ClassifierMixin, clone\n",
    "from sklearn.datasets import load_iris\n",
    "from sklearn.model_selection import train_test_split\n",
    "from sklearn.metrics import accuracy_score\n",
    "from sklearn.tree import DecisionTreeClassifier\n",
    "from sklearn.preprocessing import LabelEncoder\n",
    "from sklearn.metrics import confusion_matrix\n",
    "import seaborn as sns\n",
    "import matplotlib.pyplot as plt\n",
    "import numpy as np\n",
    "import pandas as pd"
   ]
  },
  {
   "cell_type": "code",
   "execution_count": 12,
   "metadata": {},
   "outputs": [],
   "source": [
    "class SimpleMultiClassBoosting(BaseEstimator, ClassifierMixin):\n",
    "    def __init__(self, base_estimator=None, n_estimators=50):\n",
    "        self.base_estimator = base_estimator if base_estimator is not None else DecisionTreeClassifier(max_depth=1)\n",
    "        self.n_estimators = n_estimators\n",
    "        self.learners = []\n",
    "        self.learner_weights = []\n",
    "        self.label_encoder = LabelEncoder()\n",
    "        self.n_classes = 0\n",
    "\n",
    "    def fit(self, X, y):\n",
    "        # Convert labels to [0, self.n_classes-1]\n",
    "        y_true = self.label_encoder.fit_transform(y)\n",
    "        self.n_classes = len(y.unique())\n",
    "\n",
    "        # Initialize weights uniformly\n",
    "        rows, _ = X.shape\n",
    "        weights = []\n",
    "        [weights.append(1/rows) for i in range(rows)]\n",
    "\n",
    "        for _ in range(self.n_estimators):\n",
    "            \n",
    "            learner = DecisionTreeClassifier(max_depth=1)\n",
    "            learner.fit(X, y_true, sample_weight=weights)\n",
    "            # Compute weighted learner_erroror rate (misclassification rate)\n",
    "            y_pred = learner.predict(X)\n",
    "\n",
    "            learner_error = 0\n",
    "            for i in range(y_true.size):\n",
    "                if y_true[i] != y_pred[i]:\n",
    "                    learner_error += weights[i]\n",
    "            # Compute learner weight using SAMME algorithm\n",
    "            alpha = 0.5 * np.log((1-learner_error) / learner_error)\n",
    "            if learner_error >= 1 - (1 / self.n_classes):\n",
    "                break  # Stop if the learner is no better than random guessing\n",
    "\n",
    "            # Increase the weights of misclassified samples\n",
    "            z_t = 0.0\n",
    "            \n",
    "            for i in range(len(weights)):\n",
    "                updated_weight = 0.0\n",
    "                if y_true[i] == y_pred[i]:\n",
    "                    updated_weight = weights[i] * np.exp(-1*alpha)\n",
    "                else:\n",
    "                    updated_weight = weights[i] * np.exp(alpha)\n",
    "                \n",
    "                z_t += updated_weight\n",
    "                weights[i] = updated_weight\n",
    "\n",
    "            weights /= z_t\n",
    "            \n",
    "            learner_weight = alpha\n",
    "            # Save the current learner\n",
    "            self.learners.append(learner)\n",
    "            self.learner_weights.append(learner_weight)\n",
    "\n",
    "    def predict(self, X : pd.DataFrame):\n",
    "        rows, _ = X.shape\n",
    "        y_prob = [ClassificationProbability(self.n_classes) for _ in range(rows)]\n",
    "\n",
    "        # Collect predictions from each learner\n",
    "        for i in range(len(self.learners)):\n",
    "            y_pred = self.learners[i].predict(X)\n",
    "            [y_prob[j].update_probabilities(y_pred[j], self.learner_weights[i]) for j in range(y_pred.size)]\n",
    "\n",
    "        \n",
    "        # Final prediction is the one with the highest weighted vote\n",
    "        y_pred = []\n",
    "        [y_pred.append(y_prob[i].choose_class()) for i in range(len(y_prob))]\n",
    "        y_pred = np.array(y_pred)\n",
    "\n",
    "        # Convert back to original class labels\n",
    "        y_pred = self.label_encoder.inverse_transform(y_pred)\n",
    "        return y_pred\n",
    "    \n",
    "class ClassificationProbability():\n",
    "    def __init__(self, n : int):\n",
    "        self.probability = []\n",
    "        [self.probability.append(0) for i in range(n)]\n",
    "\n",
    "    def update_probabilities(self, i : int, alpha: float):\n",
    "        self.probability[i] += alpha\n",
    "\n",
    "    def choose_class(self):\n",
    "        return np.argmax(self.probability)"
   ]
  },
  {
   "cell_type": "markdown",
   "metadata": {},
   "source": [
    "Load Data set"
   ]
  },
  {
   "cell_type": "code",
   "execution_count": 13,
   "metadata": {},
   "outputs": [
    {
     "data": {
      "text/plain": [
       "pandas.core.series.Series"
      ]
     },
     "execution_count": 13,
     "metadata": {},
     "output_type": "execute_result"
    }
   ],
   "source": [
    "iris = load_iris()\n",
    "iris_df = pd.DataFrame(iris.data, columns=iris.feature_names)  \n",
    "iris_df['target'] = iris.target\n",
    "X = iris_df.drop(\"target\", axis=1)\n",
    "y = iris_df[\"target\"]\n",
    "type(y)"
   ]
  },
  {
   "cell_type": "markdown",
   "metadata": {},
   "source": [
    "Train"
   ]
  },
  {
   "cell_type": "code",
   "execution_count": 14,
   "metadata": {},
   "outputs": [],
   "source": [
    "X_train, X_test, y_train, y_test = train_test_split(X, y, test_size = 0.3, random_state = 8)\n",
    "classifier = SimpleMultiClassBoosting(n_estimators=50)\n",
    "classifier.fit(X_train, y_train)"
   ]
  },
  {
   "cell_type": "markdown",
   "metadata": {},
   "source": [
    "Test"
   ]
  },
  {
   "cell_type": "code",
   "execution_count": 15,
   "metadata": {},
   "outputs": [
    {
     "name": "stdout",
     "output_type": "stream",
     "text": [
      "accuracy : 0.9111111111111111\n"
     ]
    },
    {
     "data": {
      "image/png": "[encoded data removed]",
      "text/plain": [
       "<Figure size 640x480 with 1 Axes>"
      ]
     },
     "metadata": {},
     "output_type": "display_data"
    }
   ],
   "source": [
    "y_pred = classifier.predict(X_test)\n",
    "confusion_mtx = confusion_matrix(y_test, y_pred)\n",
    "\n",
    "sns.heatmap(confusion_mtx.T, square=True, annot=True, fmt='d', cbar=False,\n",
    "            xticklabels=iris.target_names, yticklabels=iris.target_names)\n",
    "plt.xlabel('true label')\n",
    "plt.ylabel('predicted label')\n",
    "print(f\"accuracy : {accuracy_score(y_test, y_pred)}\")"
   ]
  }
 ],
 "metadata": {
  "kernelspec": {
   "display_name": "Python 3",
   "language": "python",
   "name": "python3"
  },
  "language_info": {
   "codemirror_mode": {
    "name": "ipython",
    "version": 3
   },
   "file_extension": ".py",
   "mimetype": "text/x-python",
   "name": "python",
   "nbconvert_exporter": "python",
   "pygments_lexer": "ipython3",
   "version": "3.12.1"
  }
 },
 "nbformat": 4,
 "nbformat_minor": 2
}
