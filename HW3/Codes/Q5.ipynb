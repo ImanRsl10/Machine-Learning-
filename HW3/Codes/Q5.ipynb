{
 "cells": [
  {
   "cell_type": "code",
   "execution_count": 29,
   "metadata": {},
   "outputs": [
    {
     "name": "stdout",
     "output_type": "stream",
     "text": [
      "H(Y) = 0.9402859586706311\n",
      "I(Y,X1) = 0.04812703040826949\n",
      "I(Y,X2) = 0.24674981977443933\n",
      "I(Y,X3) = 0.15183550136234159\n",
      "I(Y,X4) = 0.02922256565895487\n"
     ]
    }
   ],
   "source": [
    "import numpy as np\n",
    "\n",
    "N = 14\n",
    "\n",
    "def calculate_entropy(Y):\n",
    "    H_Y = 0\n",
    "    for y in Y:\n",
    "        H_Y += -y/N * np.log2(y/N)\n",
    "    return H_Y\n",
    "\n",
    "def calculate_mutual_info(Xi, H_Y):\n",
    "    P_Y_Xi = H_Y_Xi = 0\n",
    "    for X in Xi:\n",
    "        for x in X:\n",
    "            if x == 0:\n",
    "                continue\n",
    "            P_Y_Xi += -x/sum(X) * np.log2(x/sum(X))\n",
    "        H_Y_Xi += np.sum(X)/np.sum(Xi) * P_Y_Xi\n",
    "        P_Y_Xi = 0\n",
    "    \n",
    "    return str(H_Y - H_Y_Xi)\n",
    "\n",
    "Y = [9, 5]\n",
    "H_Y = calculate_entropy(Y)\n",
    "\n",
    "print(\"H(Y) = \" + str(H_Y)) \n",
    "\n",
    "X1 = [[6, 2], [3, 3]]\n",
    "X2 = [[3, 2], [2, 3], [4, 0]]\n",
    "X3 = [[3, 4], [6, 1]]\n",
    "X4 = [[3, 1], [4, 2], [2, 2]]\n",
    "\n",
    "XX = [X1, X2, X3, X4]\n",
    "\n",
    "i = 0\n",
    "for Xi in XX:\n",
    "    i += 1\n",
    "    I_Y_Xi = calculate_mutual_info(Xi, H_Y)\n",
    "    print(\"I(Y,X\" + str(i) + \") = \" + I_Y_Xi)"
   ]
  },
  {
   "cell_type": "markdown",
   "metadata": {},
   "source": [
    "X2 = 1"
   ]
  },
  {
   "cell_type": "code",
   "execution_count": 32,
   "metadata": {},
   "outputs": [
    {
     "name": "stdout",
     "output_type": "stream",
     "text": [
      "H(X2) = 0.8772776505803251\n",
      "I(X2,X3) = 0.8772776505803251\n",
      "I(X2,X4) = 0.4772776505803251\n"
     ]
    }
   ],
   "source": [
    "X2 = [2, 3]\n",
    "H_X2 = calculate_entropy(X2)\n",
    "print(\"H(X2) = \" + str(H_X2)) \n",
    "\n",
    "X3 = [[0, 3], [2, 0]]\n",
    "X4 = [[1, 0], [1, 1], [0, 2]]\n",
    "\n",
    "XX = [X3, X4]\n",
    "\n",
    "i = 2\n",
    "for Xi in XX:\n",
    "    i += 1\n",
    "    I_Y_Xi = calculate_mutual_info(Xi, H_X2)\n",
    "    print(\"I(X2,X\" + str(i) + \") = \" + I_Y_Xi)"
   ]
  }
 ],
 "metadata": {
  "kernelspec": {
   "display_name": "Python 3",
   "language": "python",
   "name": "python3"
  },
  "language_info": {
   "codemirror_mode": {
    "name": "ipython",
    "version": 3
   },
   "file_extension": ".py",
   "mimetype": "text/x-python",
   "name": "python",
   "nbconvert_exporter": "python",
   "pygments_lexer": "ipython3",
   "version": "3.12.1"
  }
 },
 "nbformat": 4,
 "nbformat_minor": 2
}
