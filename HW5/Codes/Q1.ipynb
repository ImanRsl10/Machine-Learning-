{
 "cells": [
  {
   "cell_type": "code",
   "execution_count": 68,
   "metadata": {},
   "outputs": [],
   "source": [
    "import numpy as np\n",
    "import matplotlib.pyplot as plt"
   ]
  },
  {
   "cell_type": "markdown",
   "metadata": {},
   "source": [
    "Dataset"
   ]
  },
  {
   "cell_type": "code",
   "execution_count": 74,
   "metadata": {},
   "outputs": [
    {
     "data": {
      "image/png": "[encoded data removed]",
      "text/plain": [
       "<Figure size 640x480 with 1 Axes>"
      ]
     },
     "metadata": {},
     "output_type": "display_data"
    }
   ],
   "source": [
    "X1 = np.array([[4, 1], [2, 4], [2, 3], [3, 6], [4, 4]])\n",
    "X2 = np.array([[9, 10], [6, 8], [9, 5], [8, 7], [10, 8]])\n",
    "\n",
    "plt.scatter(X1[:, 0], X1[:, 1], label='Class 1', marker='o', color='blue')\n",
    "plt.scatter(X2[:, 0], X2[:, 1], label='Class 2', marker='x', color='red')\n",
    "\n",
    "plt.title('Scatter plot of X1 and X2')\n",
    "plt.xlabel('x1')\n",
    "plt.ylabel('x2')\n",
    "plt.legend()\n",
    "plt.show()"
   ]
  },
  {
   "cell_type": "markdown",
   "metadata": {},
   "source": [
    "Means"
   ]
  },
  {
   "cell_type": "code",
   "execution_count": 76,
   "metadata": {},
   "outputs": [
    {
     "name": "stdout",
     "output_type": "stream",
     "text": [
      "mu1: [3.  3.6]\n",
      "mu2: [8.4 7.6]\n"
     ]
    },
    {
     "data": {
      "text/plain": [
       "array([[ 1. , -1. , -1. ,  0. ,  1. ],\n",
       "       [-2.6,  0.4, -0.6,  2.4,  0.4]])"
      ]
     },
     "execution_count": 76,
     "metadata": {},
     "output_type": "execute_result"
    }
   ],
   "source": [
    "mu1 = np.mean(X1, axis=0)\n",
    "mu2 = np.mean(X2, axis=0)\n",
    "\n",
    "print(f\"mu1: {mu1}\")\n",
    "print(f\"mu2: {mu2}\")"
   ]
  },
  {
   "cell_type": "markdown",
   "metadata": {},
   "source": [
    "$S_B$"
   ]
  },
  {
   "cell_type": "code",
   "execution_count": 71,
   "metadata": {},
   "outputs": [
    {
     "data": {
      "text/plain": [
       "array([[29.16, 21.6 ],\n",
       "       [21.6 , 16.  ]])"
      ]
     },
     "execution_count": 71,
     "metadata": {},
     "output_type": "execute_result"
    }
   ],
   "source": [
    "SB = np.outer((mu1 - mu2), (mu1 - mu2))\n",
    "SB"
   ]
  },
  {
   "cell_type": "markdown",
   "metadata": {},
   "source": [
    "$S_W$"
   ]
  },
  {
   "cell_type": "code",
   "execution_count": 86,
   "metadata": {},
   "outputs": [
    {
     "data": {
      "text/plain": [
       "array([[13.2, -2.2],\n",
       "       [-2.2, 26.4]])"
      ]
     },
     "execution_count": 86,
     "metadata": {},
     "output_type": "execute_result"
    }
   ],
   "source": [
    "S_W1 = np.dot((X1 - mu1).T, (X1 - mu1))\n",
    "S_W2 = np.dot((X2 - mu2).T, (X2 - mu2))\n",
    "S_W = S_W1 + S_W2\n",
    "S_W"
   ]
  },
  {
   "cell_type": "markdown",
   "metadata": {},
   "source": [
    "Eigen Value"
   ]
  },
  {
   "cell_type": "code",
   "execution_count": 92,
   "metadata": {},
   "outputs": [
    {
     "data": {
      "text/plain": [
       "3.1313700384122924"
      ]
     },
     "execution_count": 92,
     "metadata": {},
     "output_type": "execute_result"
    }
   ],
   "source": [
    "A = np.linalg.inv(S_W) @ SB\n",
    "eigvals, eigvecs = np.linalg.eig(A)\n",
    "max_eigvals = np.max(eigvals)\n",
    "max_eigvals"
   ]
  }
 ],
 "metadata": {
  "kernelspec": {
   "display_name": "Python 3",
   "language": "python",
   "name": "python3"
  },
  "language_info": {
   "codemirror_mode": {
    "name": "ipython",
    "version": 3
   },
   "file_extension": ".py",
   "mimetype": "text/x-python",
   "name": "python",
   "nbconvert_exporter": "python",
   "pygments_lexer": "ipython3",
   "version": "3.12.1"
  }
 },
 "nbformat": 4,
 "nbformat_minor": 2
}
