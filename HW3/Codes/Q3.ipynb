{
 "cells": [
  {
   "cell_type": "code",
   "execution_count": 14,
   "metadata": {},
   "outputs": [],
   "source": [
    "import numpy as np\n",
    "import pandas as pd\n",
    "import seaborn as sns\n",
    "from sklearn.impute import SimpleImputer\n",
    "from sklearn.model_selection import GridSearchCV\n",
    "from sklearn.ensemble import RandomForestClassifier\n",
    "from sklearn.model_selection import StratifiedKFold\n",
    "from sklearn.metrics import roc_auc_score\n",
    "from sklearn.ensemble import BaggingClassifier\n",
    "from sklearn.linear_model import LogisticRegression\n",
    "from sklearn.model_selection import RandomizedSearchCV"
   ]
  },
  {
   "cell_type": "markdown",
   "metadata": {},
   "source": [
    "Load Data Set"
   ]
  },
  {
   "cell_type": "code",
   "execution_count": 4,
   "metadata": {},
   "outputs": [
    {
     "data": {
      "text/html": [
       "<div>\n",
       "<style scoped>\n",
       "    .dataframe tbody tr th:only-of-type {\n",
       "        vertical-align: middle;\n",
       "    }\n",
       "\n",
       "    .dataframe tbody tr th {\n",
       "        vertical-align: top;\n",
       "    }\n",
       "\n",
       "    .dataframe thead th {\n",
       "        text-align: right;\n",
       "    }\n",
       "</style>\n",
       "<table border=\"1\" class=\"dataframe\">\n",
       "  <thead>\n",
       "    <tr style=\"text-align: right;\">\n",
       "      <th></th>\n",
       "      <th>SeriousDlqin2yrs</th>\n",
       "      <th>age</th>\n",
       "      <th>NumberOfTime30-59DaysPastDueNotWorse</th>\n",
       "      <th>DebtRatio</th>\n",
       "      <th>NumberOfTimes90DaysLate</th>\n",
       "      <th>NumberOfTime60-89DaysPastDueNotWorse</th>\n",
       "      <th>MonthlyIncome</th>\n",
       "      <th>NumberOfDependents</th>\n",
       "    </tr>\n",
       "  </thead>\n",
       "  <tbody>\n",
       "    <tr>\n",
       "      <th>0</th>\n",
       "      <td>0</td>\n",
       "      <td>64</td>\n",
       "      <td>0</td>\n",
       "      <td>0.249908</td>\n",
       "      <td>0</td>\n",
       "      <td>0</td>\n",
       "      <td>8158.0</td>\n",
       "      <td>0.0</td>\n",
       "    </tr>\n",
       "    <tr>\n",
       "      <th>1</th>\n",
       "      <td>0</td>\n",
       "      <td>58</td>\n",
       "      <td>0</td>\n",
       "      <td>3870.000000</td>\n",
       "      <td>0</td>\n",
       "      <td>0</td>\n",
       "      <td>NaN</td>\n",
       "      <td>0.0</td>\n",
       "    </tr>\n",
       "    <tr>\n",
       "      <th>2</th>\n",
       "      <td>0</td>\n",
       "      <td>41</td>\n",
       "      <td>0</td>\n",
       "      <td>0.456127</td>\n",
       "      <td>0</td>\n",
       "      <td>0</td>\n",
       "      <td>6666.0</td>\n",
       "      <td>0.0</td>\n",
       "    </tr>\n",
       "    <tr>\n",
       "      <th>3</th>\n",
       "      <td>0</td>\n",
       "      <td>43</td>\n",
       "      <td>0</td>\n",
       "      <td>0.000190</td>\n",
       "      <td>0</td>\n",
       "      <td>0</td>\n",
       "      <td>10500.0</td>\n",
       "      <td>2.0</td>\n",
       "    </tr>\n",
       "    <tr>\n",
       "      <th>4</th>\n",
       "      <td>1</td>\n",
       "      <td>49</td>\n",
       "      <td>0</td>\n",
       "      <td>0.271820</td>\n",
       "      <td>0</td>\n",
       "      <td>0</td>\n",
       "      <td>400.0</td>\n",
       "      <td>0.0</td>\n",
       "    </tr>\n",
       "    <tr>\n",
       "      <th>...</th>\n",
       "      <td>...</td>\n",
       "      <td>...</td>\n",
       "      <td>...</td>\n",
       "      <td>...</td>\n",
       "      <td>...</td>\n",
       "      <td>...</td>\n",
       "      <td>...</td>\n",
       "      <td>...</td>\n",
       "    </tr>\n",
       "    <tr>\n",
       "      <th>45058</th>\n",
       "      <td>1</td>\n",
       "      <td>31</td>\n",
       "      <td>0</td>\n",
       "      <td>0.824725</td>\n",
       "      <td>0</td>\n",
       "      <td>0</td>\n",
       "      <td>3000.0</td>\n",
       "      <td>1.0</td>\n",
       "    </tr>\n",
       "    <tr>\n",
       "      <th>45059</th>\n",
       "      <td>0</td>\n",
       "      <td>49</td>\n",
       "      <td>0</td>\n",
       "      <td>6530.000000</td>\n",
       "      <td>0</td>\n",
       "      <td>0</td>\n",
       "      <td>0.0</td>\n",
       "      <td>5.0</td>\n",
       "    </tr>\n",
       "    <tr>\n",
       "      <th>45060</th>\n",
       "      <td>1</td>\n",
       "      <td>38</td>\n",
       "      <td>0</td>\n",
       "      <td>0.475841</td>\n",
       "      <td>0</td>\n",
       "      <td>0</td>\n",
       "      <td>3000.0</td>\n",
       "      <td>2.0</td>\n",
       "    </tr>\n",
       "    <tr>\n",
       "      <th>45061</th>\n",
       "      <td>0</td>\n",
       "      <td>47</td>\n",
       "      <td>1</td>\n",
       "      <td>0.485198</td>\n",
       "      <td>0</td>\n",
       "      <td>0</td>\n",
       "      <td>11720.0</td>\n",
       "      <td>5.0</td>\n",
       "    </tr>\n",
       "    <tr>\n",
       "      <th>45062</th>\n",
       "      <td>1</td>\n",
       "      <td>45</td>\n",
       "      <td>2</td>\n",
       "      <td>0.802982</td>\n",
       "      <td>0</td>\n",
       "      <td>0</td>\n",
       "      <td>9120.0</td>\n",
       "      <td>2.0</td>\n",
       "    </tr>\n",
       "  </tbody>\n",
       "</table>\n",
       "<p>45063 rows × 8 columns</p>\n",
       "</div>"
      ],
      "text/plain": [
       "       SeriousDlqin2yrs  age  NumberOfTime30-59DaysPastDueNotWorse  \\\n",
       "0                     0   64                                     0   \n",
       "1                     0   58                                     0   \n",
       "2                     0   41                                     0   \n",
       "3                     0   43                                     0   \n",
       "4                     1   49                                     0   \n",
       "...                 ...  ...                                   ...   \n",
       "45058                 1   31                                     0   \n",
       "45059                 0   49                                     0   \n",
       "45060                 1   38                                     0   \n",
       "45061                 0   47                                     1   \n",
       "45062                 1   45                                     2   \n",
       "\n",
       "         DebtRatio  NumberOfTimes90DaysLate  \\\n",
       "0         0.249908                        0   \n",
       "1      3870.000000                        0   \n",
       "2         0.456127                        0   \n",
       "3         0.000190                        0   \n",
       "4         0.271820                        0   \n",
       "...            ...                      ...   \n",
       "45058     0.824725                        0   \n",
       "45059  6530.000000                        0   \n",
       "45060     0.475841                        0   \n",
       "45061     0.485198                        0   \n",
       "45062     0.802982                        0   \n",
       "\n",
       "       NumberOfTime60-89DaysPastDueNotWorse  MonthlyIncome  NumberOfDependents  \n",
       "0                                         0         8158.0                 0.0  \n",
       "1                                         0            NaN                 0.0  \n",
       "2                                         0         6666.0                 0.0  \n",
       "3                                         0        10500.0                 2.0  \n",
       "4                                         0          400.0                 0.0  \n",
       "...                                     ...            ...                 ...  \n",
       "45058                                     0         3000.0                 1.0  \n",
       "45059                                     0            0.0                 5.0  \n",
       "45060                                     0         3000.0                 2.0  \n",
       "45061                                     0        11720.0                 5.0  \n",
       "45062                                     0         9120.0                 2.0  \n",
       "\n",
       "[45063 rows x 8 columns]"
      ]
     },
     "execution_count": 4,
     "metadata": {},
     "output_type": "execute_result"
    }
   ],
   "source": [
    "df = pd.read_csv('../Data/credit_scoring_sample.csv', sep=';')\n",
    "df"
   ]
  },
  {
   "cell_type": "markdown",
   "metadata": {},
   "source": [
    "Plot SeriousDlqin2yrs Histogram"
   ]
  },
  {
   "cell_type": "code",
   "execution_count": 7,
   "metadata": {},
   "outputs": [
    {
     "data": {
      "text/plain": [
       "<Axes: xlabel='SeriousDlqin2yrs', ylabel='Count'>"
      ]
     },
     "execution_count": 7,
     "metadata": {},
     "output_type": "execute_result"
    },
    {
     "data": {
      "image/png": "[encoded data removed]",
      "text/plain": [
       "<Figure size 640x480 with 1 Axes>"
      ]
     },
     "metadata": {},
     "output_type": "display_data"
    }
   ],
   "source": [
    "sns.histplot(data=df, x=\"SeriousDlqin2yrs\")"
   ]
  },
  {
   "cell_type": "markdown",
   "metadata": {},
   "source": [
    "Pre Processing Data Set"
   ]
  },
  {
   "cell_type": "code",
   "execution_count": 9,
   "metadata": {},
   "outputs": [
    {
     "data": {
      "text/html": [
       "<div>\n",
       "<style scoped>\n",
       "    .dataframe tbody tr th:only-of-type {\n",
       "        vertical-align: middle;\n",
       "    }\n",
       "\n",
       "    .dataframe tbody tr th {\n",
       "        vertical-align: top;\n",
       "    }\n",
       "\n",
       "    .dataframe thead th {\n",
       "        text-align: right;\n",
       "    }\n",
       "</style>\n",
       "<table border=\"1\" class=\"dataframe\">\n",
       "  <thead>\n",
       "    <tr style=\"text-align: right;\">\n",
       "      <th></th>\n",
       "      <th>SeriousDlqin2yrs</th>\n",
       "      <th>age</th>\n",
       "      <th>NumberOfTime30-59DaysPastDueNotWorse</th>\n",
       "      <th>DebtRatio</th>\n",
       "      <th>NumberOfTimes90DaysLate</th>\n",
       "      <th>NumberOfTime60-89DaysPastDueNotWorse</th>\n",
       "      <th>MonthlyIncome</th>\n",
       "      <th>NumberOfDependents</th>\n",
       "    </tr>\n",
       "  </thead>\n",
       "  <tbody>\n",
       "    <tr>\n",
       "      <th>0</th>\n",
       "      <td>0.0</td>\n",
       "      <td>64.0</td>\n",
       "      <td>0.0</td>\n",
       "      <td>0.249908</td>\n",
       "      <td>0.0</td>\n",
       "      <td>0.0</td>\n",
       "      <td>8158.0</td>\n",
       "      <td>0.0</td>\n",
       "    </tr>\n",
       "    <tr>\n",
       "      <th>1</th>\n",
       "      <td>0.0</td>\n",
       "      <td>58.0</td>\n",
       "      <td>0.0</td>\n",
       "      <td>3870.000000</td>\n",
       "      <td>0.0</td>\n",
       "      <td>0.0</td>\n",
       "      <td>5166.0</td>\n",
       "      <td>0.0</td>\n",
       "    </tr>\n",
       "    <tr>\n",
       "      <th>2</th>\n",
       "      <td>0.0</td>\n",
       "      <td>41.0</td>\n",
       "      <td>0.0</td>\n",
       "      <td>0.456127</td>\n",
       "      <td>0.0</td>\n",
       "      <td>0.0</td>\n",
       "      <td>6666.0</td>\n",
       "      <td>0.0</td>\n",
       "    </tr>\n",
       "    <tr>\n",
       "      <th>3</th>\n",
       "      <td>0.0</td>\n",
       "      <td>43.0</td>\n",
       "      <td>0.0</td>\n",
       "      <td>0.000190</td>\n",
       "      <td>0.0</td>\n",
       "      <td>0.0</td>\n",
       "      <td>10500.0</td>\n",
       "      <td>2.0</td>\n",
       "    </tr>\n",
       "    <tr>\n",
       "      <th>4</th>\n",
       "      <td>1.0</td>\n",
       "      <td>49.0</td>\n",
       "      <td>0.0</td>\n",
       "      <td>0.271820</td>\n",
       "      <td>0.0</td>\n",
       "      <td>0.0</td>\n",
       "      <td>400.0</td>\n",
       "      <td>0.0</td>\n",
       "    </tr>\n",
       "    <tr>\n",
       "      <th>...</th>\n",
       "      <td>...</td>\n",
       "      <td>...</td>\n",
       "      <td>...</td>\n",
       "      <td>...</td>\n",
       "      <td>...</td>\n",
       "      <td>...</td>\n",
       "      <td>...</td>\n",
       "      <td>...</td>\n",
       "    </tr>\n",
       "    <tr>\n",
       "      <th>45058</th>\n",
       "      <td>1.0</td>\n",
       "      <td>31.0</td>\n",
       "      <td>0.0</td>\n",
       "      <td>0.824725</td>\n",
       "      <td>0.0</td>\n",
       "      <td>0.0</td>\n",
       "      <td>3000.0</td>\n",
       "      <td>1.0</td>\n",
       "    </tr>\n",
       "    <tr>\n",
       "      <th>45059</th>\n",
       "      <td>0.0</td>\n",
       "      <td>49.0</td>\n",
       "      <td>0.0</td>\n",
       "      <td>6530.000000</td>\n",
       "      <td>0.0</td>\n",
       "      <td>0.0</td>\n",
       "      <td>0.0</td>\n",
       "      <td>5.0</td>\n",
       "    </tr>\n",
       "    <tr>\n",
       "      <th>45060</th>\n",
       "      <td>1.0</td>\n",
       "      <td>38.0</td>\n",
       "      <td>0.0</td>\n",
       "      <td>0.475841</td>\n",
       "      <td>0.0</td>\n",
       "      <td>0.0</td>\n",
       "      <td>3000.0</td>\n",
       "      <td>2.0</td>\n",
       "    </tr>\n",
       "    <tr>\n",
       "      <th>45061</th>\n",
       "      <td>0.0</td>\n",
       "      <td>47.0</td>\n",
       "      <td>1.0</td>\n",
       "      <td>0.485198</td>\n",
       "      <td>0.0</td>\n",
       "      <td>0.0</td>\n",
       "      <td>11720.0</td>\n",
       "      <td>5.0</td>\n",
       "    </tr>\n",
       "    <tr>\n",
       "      <th>45062</th>\n",
       "      <td>1.0</td>\n",
       "      <td>45.0</td>\n",
       "      <td>2.0</td>\n",
       "      <td>0.802982</td>\n",
       "      <td>0.0</td>\n",
       "      <td>0.0</td>\n",
       "      <td>9120.0</td>\n",
       "      <td>2.0</td>\n",
       "    </tr>\n",
       "  </tbody>\n",
       "</table>\n",
       "<p>45063 rows × 8 columns</p>\n",
       "</div>"
      ],
      "text/plain": [
       "       SeriousDlqin2yrs   age  NumberOfTime30-59DaysPastDueNotWorse  \\\n",
       "0                   0.0  64.0                                   0.0   \n",
       "1                   0.0  58.0                                   0.0   \n",
       "2                   0.0  41.0                                   0.0   \n",
       "3                   0.0  43.0                                   0.0   \n",
       "4                   1.0  49.0                                   0.0   \n",
       "...                 ...   ...                                   ...   \n",
       "45058               1.0  31.0                                   0.0   \n",
       "45059               0.0  49.0                                   0.0   \n",
       "45060               1.0  38.0                                   0.0   \n",
       "45061               0.0  47.0                                   1.0   \n",
       "45062               1.0  45.0                                   2.0   \n",
       "\n",
       "         DebtRatio  NumberOfTimes90DaysLate  \\\n",
       "0         0.249908                      0.0   \n",
       "1      3870.000000                      0.0   \n",
       "2         0.456127                      0.0   \n",
       "3         0.000190                      0.0   \n",
       "4         0.271820                      0.0   \n",
       "...            ...                      ...   \n",
       "45058     0.824725                      0.0   \n",
       "45059  6530.000000                      0.0   \n",
       "45060     0.475841                      0.0   \n",
       "45061     0.485198                      0.0   \n",
       "45062     0.802982                      0.0   \n",
       "\n",
       "       NumberOfTime60-89DaysPastDueNotWorse  MonthlyIncome  NumberOfDependents  \n",
       "0                                       0.0         8158.0                 0.0  \n",
       "1                                       0.0         5166.0                 0.0  \n",
       "2                                       0.0         6666.0                 0.0  \n",
       "3                                       0.0        10500.0                 2.0  \n",
       "4                                       0.0          400.0                 0.0  \n",
       "...                                     ...            ...                 ...  \n",
       "45058                                   0.0         3000.0                 1.0  \n",
       "45059                                   0.0            0.0                 5.0  \n",
       "45060                                   0.0         3000.0                 2.0  \n",
       "45061                                   0.0        11720.0                 5.0  \n",
       "45062                                   0.0         9120.0                 2.0  \n",
       "\n",
       "[45063 rows x 8 columns]"
      ]
     },
     "execution_count": 9,
     "metadata": {},
     "output_type": "execute_result"
    }
   ],
   "source": [
    "imputer = SimpleImputer(strategy='median')\n",
    "cols = ['SeriousDlqin2yrs', 'age', 'NumberOfTime30-59DaysPastDueNotWorse', 'DebtRatio', 'NumberOfTimes90DaysLate', 'NumberOfTime60-89DaysPastDueNotWorse', 'MonthlyIncome', 'NumberOfDependents']\n",
    "df[cols] = imputer.fit_transform(df[cols])\n",
    "df"
   ]
  },
  {
   "cell_type": "markdown",
   "metadata": {},
   "source": [
    "Boot-Strapping"
   ]
  },
  {
   "cell_type": "code",
   "execution_count": 11,
   "metadata": {},
   "outputs": [
    {
     "name": "stdout",
     "output_type": "stream",
     "text": [
      "90 percent confidence interval: [45.879591388357326 , 46.01078861164268]\n"
     ]
    }
   ],
   "source": [
    "means = []\n",
    "num_of_samples = 100\n",
    "sample_size = 1000\n",
    "dishonest_customers = df[df['SeriousDlqin2yrs'] == 1]\n",
    "\n",
    "for i in range(num_of_samples):\n",
    "    sample = dishonest_customers.sample(n=sample_size, replace=True, random_state=None)\n",
    "    means.append(sample['age'].mean())\n",
    "\n",
    "mean = np.mean(means)\n",
    "std = np.std(means)\n",
    "z_score = 1.644854\n",
    "Interval = std/np.sqrt(num_of_samples)\n",
    "Interval = Interval * z_score\n",
    "print(f\"90 percent confidence interval: [{mean - Interval} , {mean + Interval}]\")"
   ]
  },
  {
   "cell_type": "markdown",
   "metadata": {},
   "source": [
    "Random Forest"
   ]
  },
  {
   "cell_type": "code",
   "execution_count": 13,
   "metadata": {},
   "outputs": [
    {
     "name": "stdout",
     "output_type": "stream",
     "text": [
      "0\n",
      "1\n",
      "2\n",
      "3\n",
      "4\n"
     ]
    },
    {
     "data": {
      "text/plain": [
       "[{'max_depth': 15, 'max_features': 1, 'min_samples_leaf': 3},\n",
       " {'max_depth': 15, 'max_features': 2, 'min_samples_leaf': 3},\n",
       " {'max_depth': 15, 'max_features': 4, 'min_samples_leaf': 3},\n",
       " {'max_depth': 15, 'max_features': 4, 'min_samples_leaf': 3},\n",
       " {'max_depth': 15, 'max_features': 2, 'min_samples_leaf': 3}]"
      ]
     },
     "execution_count": 13,
     "metadata": {},
     "output_type": "execute_result"
    }
   ],
   "source": [
    "data = df.drop('SeriousDlqin2yrs', axis=1).to_numpy()\n",
    "target = df['SeriousDlqin2yrs']\n",
    "\n",
    "random_forest = RandomForestClassifier(n_estimators=100, class_weight='balanced')\n",
    "parameters = {'max_features': [1, 2, 4], 'min_samples_leaf': [3, 5, 7, 9], 'max_depth': [5, 10, 15] }\n",
    "classifier = GridSearchCV(random_forest, parameters, n_jobs=16)\n",
    "\n",
    "skf = StratifiedKFold(n_splits=5, shuffle=True)\n",
    "best_parameter = []\n",
    "\n",
    "for train_index, test_index in skf.split(data, target):\n",
    "    print(len(best_parameter))\n",
    "    y_train_fold = target[train_index]\n",
    "    x_train_fold = data[train_index]\n",
    "    classifier.fit(x_train_fold, y_train_fold)\n",
    "    best_parameter.append(classifier.best_params_)\n",
    "\n",
    "best_parameter"
   ]
  },
  {
   "cell_type": "markdown",
   "metadata": {},
   "source": [
    "Calculate ROC AUC"
   ]
  },
  {
   "cell_type": "code",
   "execution_count": 15,
   "metadata": {},
   "outputs": [
    {
     "name": "stdout",
     "output_type": "stream",
     "text": [
      "ROC AUC 0 : 0.833518159509901\n",
      "ROC AUC 1 : 0.8310143234949158\n",
      "ROC AUC 2 : 0.8238320574170168\n",
      "ROC AUC 3 : 0.8339836508343812\n",
      "ROC AUC 4 : 0.8239447406885954\n"
     ]
    },
    {
     "data": {
      "text/plain": [
       "[None, None, None, None, None]"
      ]
     },
     "execution_count": 15,
     "metadata": {},
     "output_type": "execute_result"
    }
   ],
   "source": [
    "optimized_random_forest = RandomForestClassifier(n_estimators=100, class_weight='balanced', max_depth=15, max_features=1, min_samples_leaf=3 )\n",
    "skf = StratifiedKFold(n_splits=5, shuffle=True)\n",
    "roc_auc_values = []\n",
    "\n",
    "for train_index, test_index in skf.split(data, target):\n",
    "    y_train_fold, y_test_fold = target[train_index], target[test_index]\n",
    "    x_train_fold, x_test_fold = data[train_index], data[test_index]\n",
    "    optimized_random_forest.fit(x_train_fold, y_train_fold)\n",
    "    y_pred_probability = optimized_random_forest.predict_proba(x_test_fold)[:, 1] \n",
    "    roc_auc = roc_auc_score(y_test_fold, y_pred_probability)\n",
    "    roc_auc_values.append(roc_auc)\n",
    "\n",
    "[print(f\"ROC AUC {i} : {roc_auc_values[i]}\") for i in range(len(roc_auc_values))]"
   ]
  },
  {
   "cell_type": "markdown",
   "metadata": {},
   "source": [
    "Bagging"
   ]
  },
  {
   "cell_type": "code",
   "execution_count": 16,
   "metadata": {},
   "outputs": [
    {
     "name": "stdout",
     "output_type": "stream",
     "text": [
      "0\n",
      "1\n",
      "2\n",
      "3\n",
      "4\n"
     ]
    },
    {
     "data": {
      "text/plain": [
       "[{'max_samples': 0.7, 'max_features': 4, 'estimator__C': 1},\n",
       " {'max_samples': 0.7, 'max_features': 4, 'estimator__C': 10},\n",
       " {'max_samples': 0.5, 'max_features': 4, 'estimator__C': 1},\n",
       " {'max_samples': 0.5, 'max_features': 4, 'estimator__C': 1},\n",
       " {'max_samples': 0.5, 'max_features': 4, 'estimator__C': 1}]"
      ]
     },
     "execution_count": 16,
     "metadata": {},
     "output_type": "execute_result"
    }
   ],
   "source": [
    "data = df.drop('SeriousDlqin2yrs', axis=1).to_numpy()\n",
    "target = df['SeriousDlqin2yrs']\n",
    "\n",
    "base_classifier = LogisticRegression(max_iter=200)\n",
    "bagging_cl = BaggingClassifier(base_classifier, 100)\n",
    "parameters = {'max_features': [2, 3, 4], 'max_samples': [0.5, 0.7, 0.9], 'estimator__C': [0.0001, 0.001, 0.01, 1, 10, 100] }\n",
    "\n",
    "random_search = RandomizedSearchCV(bagging_cl, parameters, n_iter=20, n_jobs=16)\n",
    "\n",
    "skf = StratifiedKFold(n_splits=5, shuffle=True)\n",
    "best_params = []\n",
    "\n",
    "for train_index, test_index in skf.split(data, target):\n",
    "    print(len(best_params))\n",
    "    y_train_fold = target[train_index]\n",
    "    x_train_fold = data[train_index]\n",
    "    random_search.fit(x_train_fold, y_train_fold)\n",
    "    best_params.append(random_search.best_params_)\n",
    "\n",
    "best_params"
   ]
  },
  {
   "cell_type": "markdown",
   "metadata": {},
   "source": [
    "Calculate ROC AUC"
   ]
  },
  {
   "cell_type": "code",
   "execution_count": 17,
   "metadata": {},
   "outputs": [
    {
     "name": "stdout",
     "output_type": "stream",
     "text": [
      "ROC AUC 0 : 0.7512569176374133\n",
      "ROC AUC 1 : 0.7472883146016238\n",
      "ROC AUC 2 : 0.7697435380457742\n",
      "ROC AUC 3 : 0.772792864420937\n",
      "ROC AUC 4 : 0.7450728822299895\n"
     ]
    },
    {
     "data": {
      "text/plain": [
       "[None, None, None, None, None]"
      ]
     },
     "execution_count": 17,
     "metadata": {},
     "output_type": "execute_result"
    }
   ],
   "source": [
    "base_classifier = LogisticRegression(C=100, max_iter=200)\n",
    "bagging_cl = BaggingClassifier(base_classifier, 100, max_samples=0.7, max_features=4)\n",
    "\n",
    "data = df.drop('SeriousDlqin2yrs', axis=1).to_numpy()\n",
    "target = df['SeriousDlqin2yrs']\n",
    "\n",
    "skf = StratifiedKFold(n_splits=5, shuffle=True)\n",
    "roc_auc_values = []\n",
    "\n",
    "for train_index, test_index in skf.split(data, target):\n",
    "    y_train_fold, y_test_fold = target[train_index], target[test_index]\n",
    "    x_train_fold, x_test_fold = data[train_index], data[test_index]\n",
    "    bagging_cl.fit(x_train_fold, y_train_fold)\n",
    "    y_pred_probability = bagging_cl.predict_proba(x_test_fold)[:, 1] \n",
    "    roc_auc = roc_auc_score(y_test_fold, y_pred_probability)\n",
    "    roc_auc_values.append(roc_auc)\n",
    "\n",
    "[print(f\"ROC AUC {i} : {roc_auc_values[i]}\") for i in range(len(roc_auc_values))]"
   ]
  }
 ],
 "metadata": {
  "kernelspec": {
   "display_name": "Python 3",
   "language": "python",
   "name": "python3"
  },
  "language_info": {
   "codemirror_mode": {
    "name": "ipython",
    "version": 3
   },
   "file_extension": ".py",
   "mimetype": "text/x-python",
   "name": "python",
   "nbconvert_exporter": "python",
   "pygments_lexer": "ipython3",
   "version": "3.12.1"
  }
 },
 "nbformat": 4,
 "nbformat_minor": 2
}
